{
 "cells": [
  {
   "cell_type": "code",
   "execution_count": 1,
   "metadata": {},
   "outputs": [],
   "source": [
    "import numpy as np\n",
    "import pandas as pd\n",
    "import re"
   ]
  },
  {
   "cell_type": "code",
   "execution_count": 2,
   "metadata": {},
   "outputs": [],
   "source": [
    "text = open(\"sentences.txt\", \"r\")\n",
    "sentences = []\n",
    "for line in text:\n",
    "    sentences.append(line.strip().lower())"
   ]
  },
  {
   "cell_type": "code",
   "execution_count": 3,
   "metadata": {},
   "outputs": [],
   "source": [
    "wordList = {}\n",
    "i = 0\n",
    "k = 0\n",
    "sentSplit = sentences.copy()\n",
    "for line in sentSplit:\n",
    "    line = re.split('[^a-z]', line)\n",
    "    sentSplit[i] = line\n",
    "    i += 1\n",
    "    for word in line:\n",
    "        if word not in wordList and word!='':\n",
    "            wordList[word] = k\n",
    "            k+= 1"
   ]
  },
  {
   "cell_type": "code",
   "execution_count": 4,
   "metadata": {},
   "outputs": [],
   "source": [
    "w = len(wordList)\n",
    "s = len(sentences)\n",
    "matrix = np.zeros((s, w))\n",
    "\n",
    "for i in range(s):\n",
    "    senLine = sentSplit[i]\n",
    "    for w in senLine:\n",
    "        if w!='':\n",
    "            matrix[i][wordList[w]] += 1"
   ]
  },
  {
   "cell_type": "code",
   "execution_count": 9,
   "metadata": {},
   "outputs": [
    {
     "name": "stdout",
     "output_type": "stream",
     "text": [
      "{0: 0.0, 1: -18.0, 2: -21.0, 3: -12.0, 4: -9.0, 5: -6.0, 6: -11.0, 7: 1.0, 8: -34.0, 9: -18.0, 10: -9.0, 11: -6.0, 12: -11.0, 13: -3.0, 14: -4.0, 15: -9.0, 16: -31.0, 17: -24.0, 18: -9.0, 19: -9.0, 20: -12.0, 21: -7.0}\n"
     ]
    }
   ],
   "source": [
    "cosDistance = {}\n",
    "\n",
    "sentFirst = matrix[0, :]\n",
    "for i in range(s):\n",
    "    sentCheck = matrix[i, :]\n",
    "    cosDistance[i] = 1 -  ((np.linalg.norm(sentFirst)*np.linalg.norm(sentCheck)))\n",
    "    cosDistance[i] = np.linalg.norm(np.dot(sentFirst, sentFirst)) - np.linalg.norm(np.dot(sentCheck, sentCheck))\n",
    "print(cosDistance)"
   ]
  },
  {
   "cell_type": "code",
   "execution_count": 10,
   "metadata": {},
   "outputs": [
    {
     "data": {
      "text/html": [
       "<div>\n",
       "<style scoped>\n",
       "    .dataframe tbody tr th:only-of-type {\n",
       "        vertical-align: middle;\n",
       "    }\n",
       "\n",
       "    .dataframe tbody tr th {\n",
       "        vertical-align: top;\n",
       "    }\n",
       "\n",
       "    .dataframe thead th {\n",
       "        text-align: right;\n",
       "    }\n",
       "</style>\n",
       "<table border=\"1\" class=\"dataframe\">\n",
       "  <thead>\n",
       "    <tr style=\"text-align: right;\">\n",
       "      <th></th>\n",
       "      <th>distance</th>\n",
       "      <th>sentence</th>\n",
       "    </tr>\n",
       "  </thead>\n",
       "  <tbody>\n",
       "    <tr>\n",
       "      <td>8</td>\n",
       "      <td>-34.0</td>\n",
       "      <td>cat with one named file is safer where human e...</td>\n",
       "    </tr>\n",
       "    <tr>\n",
       "      <td>16</td>\n",
       "      <td>-31.0</td>\n",
       "      <td>since apple moved to using intel processors in...</td>\n",
       "    </tr>\n",
       "    <tr>\n",
       "      <td>17</td>\n",
       "      <td>-24.0</td>\n",
       "      <td>os x mountain lion was released on july 25, 20...</td>\n",
       "    </tr>\n",
       "    <tr>\n",
       "      <td>2</td>\n",
       "      <td>-21.0</td>\n",
       "      <td>a common interactive use of cat for a single f...</td>\n",
       "    </tr>\n",
       "    <tr>\n",
       "      <td>1</td>\n",
       "      <td>-18.0</td>\n",
       "      <td>as cat simply catenates streams of bytes, it c...</td>\n",
       "    </tr>\n",
       "    <tr>\n",
       "      <td>9</td>\n",
       "      <td>-18.0</td>\n",
       "      <td>in terms of legibility, a sequence of commands...</td>\n",
       "    </tr>\n",
       "    <tr>\n",
       "      <td>3</td>\n",
       "      <td>-12.0</td>\n",
       "      <td>cats can hear sounds too faint or too high in ...</td>\n",
       "    </tr>\n",
       "    <tr>\n",
       "      <td>20</td>\n",
       "      <td>-12.0</td>\n",
       "      <td>mac os x mountain lion installs in place, so y...</td>\n",
       "    </tr>\n",
       "    <tr>\n",
       "      <td>6</td>\n",
       "      <td>-11.0</td>\n",
       "      <td>domestic cats are similar in size to the other...</td>\n",
       "    </tr>\n",
       "    <tr>\n",
       "      <td>12</td>\n",
       "      <td>-11.0</td>\n",
       "      <td>when you type simply cat command without any a...</td>\n",
       "    </tr>\n",
       "    <tr>\n",
       "      <td>10</td>\n",
       "      <td>-9.0</td>\n",
       "      <td>cat command is one of the basic commands that ...</td>\n",
       "    </tr>\n",
       "    <tr>\n",
       "      <td>4</td>\n",
       "      <td>-9.0</td>\n",
       "      <td>in one, people deliberately tamed cats in a pr...</td>\n",
       "    </tr>\n",
       "    <tr>\n",
       "      <td>19</td>\n",
       "      <td>-9.0</td>\n",
       "      <td>the mountain lion release marks the second tim...</td>\n",
       "    </tr>\n",
       "    <tr>\n",
       "      <td>18</td>\n",
       "      <td>-9.0</td>\n",
       "      <td>apple has released a small patch for the three...</td>\n",
       "    </tr>\n",
       "    <tr>\n",
       "      <td>15</td>\n",
       "      <td>-9.0</td>\n",
       "      <td>as of mid 2010, some apple computers have firm...</td>\n",
       "    </tr>\n",
       "    <tr>\n",
       "      <td>21</td>\n",
       "      <td>-7.0</td>\n",
       "      <td>the fifth major update to mac os x, leopard, c...</td>\n",
       "    </tr>\n",
       "    <tr>\n",
       "      <td>11</td>\n",
       "      <td>-6.0</td>\n",
       "      <td>using cat command, the lines received from std...</td>\n",
       "    </tr>\n",
       "    <tr>\n",
       "      <td>5</td>\n",
       "      <td>-6.0</td>\n",
       "      <td>the domesticated cat and its closest wild ance...</td>\n",
       "    </tr>\n",
       "    <tr>\n",
       "      <td>14</td>\n",
       "      <td>-4.0</td>\n",
       "      <td>according to apple, leopard contains over 300 ...</td>\n",
       "    </tr>\n",
       "    <tr>\n",
       "      <td>13</td>\n",
       "      <td>-3.0</td>\n",
       "      <td>leopard was released on october 26, 2007 as th...</td>\n",
       "    </tr>\n",
       "    <tr>\n",
       "      <td>0</td>\n",
       "      <td>0.0</td>\n",
       "      <td>in comparison to dogs, cats have not undergone...</td>\n",
       "    </tr>\n",
       "    <tr>\n",
       "      <td>7</td>\n",
       "      <td>1.0</td>\n",
       "      <td>however, if the output is piped or redirected,...</td>\n",
       "    </tr>\n",
       "  </tbody>\n",
       "</table>\n",
       "</div>"
      ],
      "text/plain": [
       "    distance                                           sentence\n",
       "8      -34.0  cat with one named file is safer where human e...\n",
       "16     -31.0  since apple moved to using intel processors in...\n",
       "17     -24.0  os x mountain lion was released on july 25, 20...\n",
       "2      -21.0  a common interactive use of cat for a single f...\n",
       "1      -18.0  as cat simply catenates streams of bytes, it c...\n",
       "9      -18.0  in terms of legibility, a sequence of commands...\n",
       "3      -12.0  cats can hear sounds too faint or too high in ...\n",
       "20     -12.0  mac os x mountain lion installs in place, so y...\n",
       "6      -11.0  domestic cats are similar in size to the other...\n",
       "12     -11.0  when you type simply cat command without any a...\n",
       "10      -9.0  cat command is one of the basic commands that ...\n",
       "4       -9.0  in one, people deliberately tamed cats in a pr...\n",
       "19      -9.0  the mountain lion release marks the second tim...\n",
       "18      -9.0  apple has released a small patch for the three...\n",
       "15      -9.0  as of mid 2010, some apple computers have firm...\n",
       "21      -7.0  the fifth major update to mac os x, leopard, c...\n",
       "11      -6.0  using cat command, the lines received from std...\n",
       "5       -6.0  the domesticated cat and its closest wild ance...\n",
       "14      -4.0  according to apple, leopard contains over 300 ...\n",
       "13      -3.0  leopard was released on october 26, 2007 as th...\n",
       "0        0.0  in comparison to dogs, cats have not undergone...\n",
       "7        1.0  however, if the output is piped or redirected,..."
      ]
     },
     "execution_count": 10,
     "metadata": {},
     "output_type": "execute_result"
    }
   ],
   "source": [
    "distanceTable = pd.DataFrame.from_dict(cosDistance, orient = 'index')\n",
    "distanceTable.columns = ['distance']\n",
    "distanceTable['sentence'] = list(map(lambda x: sentences[x], distanceTable.index.values))\n",
    "distanceTable.sort_values('distance')"
   ]
  },
  {
   "cell_type": "code",
   "execution_count": 21,
   "metadata": {},
   "outputs": [
    {
     "name": "stdout",
     "output_type": "stream",
     "text": [
      "Thus the most similar two sentences to the first one is the 6 and 4\n"
     ]
    }
   ],
   "source": [
    "print(\"Thus the most similar two sentences to the first one is the 6 and 4\")"
   ]
  },
  {
   "cell_type": "code",
   "execution_count": null,
   "metadata": {},
   "outputs": [],
   "source": []
  }
 ],
 "metadata": {
  "kernelspec": {
   "display_name": "Python 3",
   "language": "python",
   "name": "python3"
  },
  "language_info": {
   "codemirror_mode": {
    "name": "ipython",
    "version": 3
   },
   "file_extension": ".py",
   "mimetype": "text/x-python",
   "name": "python",
   "nbconvert_exporter": "python",
   "pygments_lexer": "ipython3",
   "version": "3.7.4"
  }
 },
 "nbformat": 4,
 "nbformat_minor": 2
}
