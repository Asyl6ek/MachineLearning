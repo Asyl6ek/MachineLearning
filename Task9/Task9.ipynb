{
 "cells": [
  {
   "cell_type": "code",
   "execution_count": 29,
   "metadata": {},
   "outputs": [],
   "source": [
    "def solution(N):\n",
    "    binarySpace = 0;\n",
    "    binary = '{0:08b}'.format(N)\n",
    "    lens = len(binary)\n",
    "    one = [] \n",
    "    for i in range(len(binary)):\n",
    "        if binary[i] == '1': one.append(i)\n",
    "    for i in range(1, len(one), 1):\n",
    "        binarySpace = max(binarySpace, one[i] - one[i - 1] - 1)\n",
    "    print(binarySpace)\n",
    "    return binarySpace"
   ]
  },
  {
   "cell_type": "code",
   "execution_count": 30,
   "metadata": {},
   "outputs": [
    {
     "name": "stdout",
     "output_type": "stream",
     "text": [
      "4\n",
      "4\n"
     ]
    }
   ],
   "source": [
    "print(solution(529))"
   ]
  },
  {
   "cell_type": "code",
   "execution_count": null,
   "metadata": {},
   "outputs": [],
   "source": []
  }
 ],
 "metadata": {
  "kernelspec": {
   "display_name": "Python 3",
   "language": "python",
   "name": "python3"
  },
  "language_info": {
   "codemirror_mode": {
    "name": "ipython",
    "version": 3
   },
   "file_extension": ".py",
   "mimetype": "text/x-python",
   "name": "python",
   "nbconvert_exporter": "python",
   "pygments_lexer": "ipython3",
   "version": "3.7.4"
  }
 },
 "nbformat": 4,
 "nbformat_minor": 2
}
