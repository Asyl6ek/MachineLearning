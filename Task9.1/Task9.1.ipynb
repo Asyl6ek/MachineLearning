{
 "cells": [
  {
   "cell_type": "markdown",
   "metadata": {},
   "source": [
    "# Disks"
   ]
  },
  {
   "cell_type": "code",
   "execution_count": 1,
   "metadata": {},
   "outputs": [
    {
     "name": "stdout",
     "output_type": "stream",
     "text": [
      "1 5 2 1 4 0\n",
      "11\n"
     ]
    }
   ],
   "source": [
    "def findPairs(A):\n",
    "    c = 0\n",
    "    n = len(A)\n",
    "    for i in range(n):\n",
    "        for j in range(i + 1, n):\n",
    "            if j - i <= A[i] + A[j]:\n",
    "                c += 1\n",
    "    if c > 10000000:\n",
    "        c = -1\n",
    "    return c\n",
    "\n",
    "\n",
    "\n",
    "a = input()\n",
    "list = []\n",
    "for i in a.split():\n",
    "    list.append(int(i))\n",
    "\n",
    "print(findPairs(list))"
   ]
  },
  {
   "cell_type": "markdown",
   "metadata": {},
   "source": [
    "# Pairs"
   ]
  },
  {
   "cell_type": "code",
   "execution_count": 3,
   "metadata": {},
   "outputs": [
    {
     "name": "stdout",
     "output_type": "stream",
     "text": [
      "9 3 9 3 9 7 9\n",
      "7\n"
     ]
    }
   ],
   "source": [
    "def solution(A):\n",
    "    c = 0\n",
    "    n = len(A)\n",
    "    for i in range(n):\n",
    "        for j in range(n):\n",
    "            if A[i] == A[j]:\n",
    "                c += 1\n",
    "        if c % 2 != 0:\n",
    "            return A[i]\n",
    "        c = 0\n",
    "a = input()\n",
    "list = []\n",
    "for i in a.split():\n",
    "    list.append(int(i))\n",
    "\n",
    "print(solution(list))"
   ]
  },
  {
   "cell_type": "code",
   "execution_count": null,
   "metadata": {},
   "outputs": [],
   "source": []
  }
 ],
 "metadata": {
  "kernelspec": {
   "display_name": "Python 3",
   "language": "python",
   "name": "python3"
  },
  "language_info": {
   "codemirror_mode": {
    "name": "ipython",
    "version": 3
   },
   "file_extension": ".py",
   "mimetype": "text/x-python",
   "name": "python",
   "nbconvert_exporter": "python",
   "pygments_lexer": "ipython3",
   "version": "3.7.4"
  }
 },
 "nbformat": 4,
 "nbformat_minor": 2
}
